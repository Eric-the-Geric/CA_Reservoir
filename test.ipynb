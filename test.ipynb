{
 "cells": [
  {
   "cell_type": "code",
   "execution_count": null,
   "metadata": {},
   "outputs": [],
   "source": [
    "import numpy as np\n",
    "import matplotlib.pyplot as plt\n",
    "import tensorflow as tf\n",
    "from IPython import display\n",
    "from model import GOL_layer, PeriodicPadding2D, gol_reservoir_model, gol_reservoir_model_better, no_reservoir"
   ]
  },
  {
   "cell_type": "code",
   "execution_count": null,
   "metadata": {},
   "outputs": [],
   "source": [
    "\n",
    "# class PeriodicPadding2D(tf.keras.layers.Layer):\n",
    "#     def __init__(self, padding=1, **kwargs):\n",
    "#         super(PeriodicPadding2D, self).__init__(**kwargs)\n",
    "#         self.padding = padding\n",
    "\n",
    "#     def build(self, input_shape):\n",
    "#         super(PeriodicPadding2D, self).build(input_shape)\n",
    "\n",
    "#     def call(self, x):\n",
    "#         # Extract the padding dimensions\n",
    "#         p = self.padding\n",
    "#         # assemble padded x from slices\n",
    "#         #            tl,tc,tr\n",
    "#         # padded_x = ml,mc,mr\n",
    "#         #            bl,bc,br\n",
    "#         top_left = x[:, -p:, -p:] # top left\n",
    "#         top_center = x[:, -p:, :] # top center\n",
    "#         top_right = x[:, -p:, :p] # top right\n",
    "#         middle_left = x[:, :, -p:] # middle left\n",
    "#         middle_center = x # middle center\n",
    "#         middle_right = x[:, :, :p] # middle right\n",
    "#         bottom_left = x[:, :p, -p:] # bottom left\n",
    "#         bottom_center = x[:, :p, :] # bottom center\n",
    "#         bottom_right = x[:, :p, :p] # bottom right\n",
    "#         top = tf.concat([top_left, top_center, top_right], axis=2)\n",
    "#         middle = tf.concat([middle_left, middle_center, middle_right], axis=2)\n",
    "#         bottom = tf.concat([bottom_left, bottom_center, bottom_right], axis=2)\n",
    "#         padded_x = tf.concat([top, middle, bottom], axis=1)\n",
    "\n",
    "#         return padded_x\n",
    "\n",
    "#     def compute_output_shape(self, input_shape):\n",
    "#         return (input_shape[0], input_shape[1] + 2 * self.padding[0], input_shape[2] + 2 * self.padding[1], input_shape[3])\n",
    "\n",
    "#     def get_config(self):\n",
    "#         config = super(PeriodicPadding2D, self).get_config()\n",
    "#         config.update({'padding': self.padding})\n",
    "#         return config\n",
    "\n",
    "# # Example usage:\n",
    "# # Create an instance of the PeriodicPadding2D layer\n",
    "# "
   ]
  },
  {
   "cell_type": "code",
   "execution_count": null,
   "metadata": {},
   "outputs": [],
   "source": [
    "# kernel = tf.constant([[1, 1, 1],\n",
    "#                      [1, 9, 1],\n",
    "#                      [1, 1, 1],])\n"
   ]
  },
  {
   "cell_type": "code",
   "execution_count": null,
   "metadata": {},
   "outputs": [],
   "source": [
    "# kernel[None,...,None].shape"
   ]
  },
  {
   "cell_type": "code",
   "execution_count": null,
   "metadata": {},
   "outputs": [],
   "source": [
    "# print(tf.config.list_physical_devices('GPU'))"
   ]
  },
  {
   "cell_type": "code",
   "execution_count": null,
   "metadata": {},
   "outputs": [],
   "source": [
    "# class test_model(tf.keras.Model):\n",
    "#     def __init__(self, kernel, padding_layer):\n",
    "#         super(test_model, self).__init__()\n",
    "#         self.kernel = kernel[..., None, None]\n",
    "#         self.pad = padding_layer\n",
    "#         self(tf.zeros([1, 3, 3, 1], dtype=tf.int32))\n",
    "\n",
    "#     def GOL(self, x):\n",
    "#         mask1 = (x == 3) | (x == 11) | (x ==12)\n",
    "#         return tf.cast(mask1, tf.int32)\n",
    "    \n",
    "#     def convolve(self, x):\n",
    "#         return tf.nn.conv2d(x, self.kernel, padding=\"VALID\", strides=[1, 1, 1, 1])\n",
    "    \n",
    "#     def __call__(self, x):\n",
    "#         padded = self.pad(x)\n",
    "#         conved = self.convolve(padded)\n",
    "#         return self.GOL(conved)\n"
   ]
  },
  {
   "cell_type": "code",
   "execution_count": null,
   "metadata": {},
   "outputs": [],
   "source": [
    "# model = test_model(kernel, periodic_padding_layer)"
   ]
  },
  {
   "cell_type": "code",
   "execution_count": null,
   "metadata": {},
   "outputs": [],
   "source": [
    "# model.layers"
   ]
  },
  {
   "cell_type": "code",
   "execution_count": null,
   "metadata": {},
   "outputs": [],
   "source": [
    "# glider_gun =\\\n",
    "# [[0,0,0,0,0,0,0,0,0,0,0,0,0,0,0,0,0,0,0,0,0,0,0,0,1,0,0,0,0,0,0,0,0,0,0,0],\n",
    "#  [0,0,0,0,0,0,0,0,0,0,0,0,0,0,0,0,0,0,0,0,0,0,1,0,1,0,0,0,0,0,0,0,0,0,0,0],\n",
    "#  [0,0,0,0,0,0,0,0,0,0,0,0,1,1,0,0,0,0,0,0,1,1,0,0,0,0,0,0,0,0,0,0,0,0,1,1],\n",
    "#  [0,0,0,0,0,0,0,0,0,0,0,1,0,0,0,1,0,0,0,0,1,1,0,0,0,0,0,0,0,0,0,0,0,0,1,1],\n",
    "#  [1,1,0,0,0,0,0,0,0,0,1,0,0,0,0,0,1,0,0,0,1,1,0,0,0,0,0,0,0,0,0,0,0,0,0,0],\n",
    "#  [1,1,0,0,0,0,0,0,0,0,1,0,0,0,1,0,1,1,0,0,0,0,1,0,1,0,0,0,0,0,0,0,0,0,0,0],\n",
    "#  [0,0,0,0,0,0,0,0,0,0,1,0,0,0,0,0,1,0,0,0,0,0,0,0,1,0,0,0,0,0,0,0,0,0,0,0],\n",
    "#  [0,0,0,0,0,0,0,0,0,0,0,1,0,0,0,1,0,0,0,0,0,0,0,0,0,0,0,0,0,0,0,0,0,0,0,0],\n",
    "#  [0,0,0,0,0,0,0,0,0,0,0,0,1,1,0,0,0,0,0,0,0,0,0,0,0,0,0,0,0,0,0,0,0,0,0,0]]"
   ]
  },
  {
   "cell_type": "code",
   "execution_count": null,
   "metadata": {},
   "outputs": [],
   "source": [
    "# x_init = np.random.randint(0,2, (1, 100, 100, 1))\n",
    "# x_init = np.zeros([1, 50, 50, 1])\n",
    "# x_init[0, 10:19, 10:46, 0] = glider_gun\n",
    "# x_init = tf.cast(x_init, tf.int32)"
   ]
  },
  {
   "cell_type": "code",
   "execution_count": null,
   "metadata": {},
   "outputs": [],
   "source": [
    "# for i in range(100):\n",
    "#     x_init = model(x_init)\n",
    "#     plt.imshow(x_init[0,...,0])\n",
    "#     display.clear_output(wait=True)\n",
    "#     display.display(plt.gcf())"
   ]
  },
  {
   "cell_type": "code",
   "execution_count": null,
   "metadata": {},
   "outputs": [],
   "source": [
    "# padding = PeriodicPadding2D()\n",
    "# gol = GOL_layer(1)\n",
    "\n",
    "# model = tf.keras.Sequential()\n",
    "# model.add(padding)\n",
    "# model.add(gol)"
   ]
  },
  {
   "cell_type": "code",
   "execution_count": null,
   "metadata": {},
   "outputs": [],
   "source": [
    "# _ = model(tf.zeros([1, 3, 3, 1], tf.int32))"
   ]
  },
  {
   "cell_type": "code",
   "execution_count": null,
   "metadata": {},
   "outputs": [],
   "source": [
    "# model.summary()"
   ]
  },
  {
   "cell_type": "code",
   "execution_count": null,
   "metadata": {},
   "outputs": [],
   "source": [
    "# Load MNIST dataset and preprocess\n",
    "mnist = tf.keras.datasets.mnist\n",
    "(x_train, y_train), (x_test, y_test) = mnist.load_data()\n",
    "\n",
    "\n"
   ]
  },
  {
   "cell_type": "code",
   "execution_count": null,
   "metadata": {},
   "outputs": [],
   "source": [
    "x_train, x_test = x_train / 255.0, x_test / 255.0\n"
   ]
  },
  {
   "cell_type": "code",
   "execution_count": null,
   "metadata": {},
   "outputs": [],
   "source": [
    "bin_x_train = np.where(x_train != 0, 1, x_train)\n",
    "bin_x_test = np.where(x_test != 0, 1, x_test)\n",
    "bin_x_train = np.expand_dims(bin_x_train, axis=-1)\n",
    "bin_x_test = np.expand_dims(bin_x_test, axis=-1)"
   ]
  },
  {
   "cell_type": "code",
   "execution_count": null,
   "metadata": {},
   "outputs": [],
   "source": [
    "loss_fn = tf.keras.losses.SparseCategoricalCrossentropy(from_logits=True) # from_logits just takes the final layer and places that into the sparsecategoricalcrossenttropy\n"
   ]
  },
  {
   "cell_type": "code",
   "execution_count": null,
   "metadata": {},
   "outputs": [],
   "source": [
    "model = gol_reservoir_model_better(timesteps=20, name=\"rGOL\")\n",
    "model.build((1, 28, 28, 1))\n",
    "# model = no_reservoir()\n",
    "# model.build((1, 28, 28, 1))"
   ]
  },
  {
   "cell_type": "code",
   "execution_count": null,
   "metadata": {},
   "outputs": [],
   "source": [
    "model.summary()"
   ]
  },
  {
   "cell_type": "code",
   "execution_count": null,
   "metadata": {},
   "outputs": [],
   "source": [
    "model.compile(optimizer=tf.optimizers.Adam(learning_rate=0.01),\n",
    "              loss=loss_fn,\n",
    "              metrics=['accuracy'])\n"
   ]
  },
  {
   "cell_type": "code",
   "execution_count": null,
   "metadata": {},
   "outputs": [],
   "source": [
    "history = model.fit(bin_x_train, y_train, batch_size=500, epochs=50, validation_data=(bin_x_test, y_test))"
   ]
  },
  {
   "cell_type": "code",
   "execution_count": null,
   "metadata": {},
   "outputs": [],
   "source": [
    "model.summary()"
   ]
  },
  {
   "cell_type": "code",
   "execution_count": null,
   "metadata": {},
   "outputs": [],
   "source": [
    "# summarize history for loss\n",
    "plt.plot(history.history['loss'])\n",
    "plt.plot(history.history['val_loss'])\n",
    "\n",
    "plt.title('model loss')\n",
    "plt.ylabel('loss')\n",
    "plt.xlabel('epochs')\n",
    "plt.legend(['train', 'test'], loc='upper left')\n",
    "plt.show()"
   ]
  },
  {
   "cell_type": "code",
   "execution_count": null,
   "metadata": {},
   "outputs": [],
   "source": [
    "# summarize history for accuracy\n",
    "plt.plot(history.history['accuracy'])\n",
    "plt.plot(history.history['val_accuracy'])\n",
    "plt.title('model accuracy')"
   ]
  },
  {
   "cell_type": "code",
   "execution_count": null,
   "metadata": {},
   "outputs": [],
   "source": [
    "# inputs = tf.keras.Input(shape=(None, 28, 28, 1), dtype=tf.int32)\n",
    "# padding = PeriodicPadding2D()(inputs)\n",
    "# temp_output = GOL_layer()(padding)\n",
    "# temp_output = tf.keras.layers.Flatten()(temp_output)\n",
    "# temp_output = tf.reshape(temp_output, (1, 784))\n",
    "# output = tf.keras.layers.Dense(10)(temp_output)\n",
    "# model = tf.keras.Model(inputs=inputs, outputs=output, name=\"rECA\")\n",
    "# model.summary()\n",
    "   "
   ]
  },
  {
   "cell_type": "code",
   "execution_count": null,
   "metadata": {},
   "outputs": [],
   "source": [
    "# class CustomModel(tf.keras.Model):\n",
    "#     def __init__(self, name=\"rECA\"):\n",
    "#         super(CustomModel, self).__init__(name=name)\n",
    "#         self.input_layer = tf.keras.layers.InputLayer(input_shape=(28, 28, 1), dtype=tf.int32)\n",
    "#         self.padding = PeriodicPadding2D()\n",
    "#         self.gol_layer = GOL_layer()\n",
    "#         self.flatten = tf.keras.layers.Flatten()\n",
    "#         self.dense = tf.keras.layers.Dense(10)\n",
    "\n",
    "#     def call(self, inputs):\n",
    "#         x = self.input_layer(inputs)\n",
    "#         for i in range(5):\n",
    "#             x = self.padding(x)\n",
    "#             x = self.gol_layer(x)\n",
    "#         x = self.flatten(x)\n",
    "#         x = tf.reshape(x, (1, 784))\n",
    "#         x = self.dense(x)\n",
    "#         return x\n",
    "\n",
    "# # Create an instance of the CustomModel\n",
    "# model = CustomModel(name=\"rECA\")\n",
    "\n",
    "# # Call summary on the model instance\n",
    "# model.build((None, 28, 28, 1))  # Build the model with a specific input shape\n",
    "# model.summary()"
   ]
  },
  {
   "cell_type": "code",
   "execution_count": null,
   "metadata": {},
   "outputs": [],
   "source": [
    "# model = CustomModel(name=\"rECA\")\n",
    "\n",
    "# # To access the model's summary or compile it, you can use standard TensorFlow model operations.\n",
    "\n",
    "# model.compile(optimizer='adam', loss='sparse_categorical_crossentropy', metrics=['accuracy'])"
   ]
  },
  {
   "cell_type": "code",
   "execution_count": null,
   "metadata": {},
   "outputs": [],
   "source": [
    "# model.build((None, 28, 28, 1))"
   ]
  },
  {
   "cell_type": "code",
   "execution_count": null,
   "metadata": {},
   "outputs": [],
   "source": [
    "# test = model(bin_x_test[0:1])\n",
    "# np.argmax(test)"
   ]
  },
  {
   "cell_type": "code",
   "execution_count": null,
   "metadata": {},
   "outputs": [],
   "source": []
  }
 ],
 "metadata": {
  "kernelspec": {
   "display_name": "tf",
   "language": "python",
   "name": "python3"
  },
  "language_info": {
   "codemirror_mode": {
    "name": "ipython",
    "version": 3
   },
   "file_extension": ".py",
   "mimetype": "text/x-python",
   "name": "python",
   "nbconvert_exporter": "python",
   "pygments_lexer": "ipython3",
   "version": "3.10.11"
  }
 },
 "nbformat": 4,
 "nbformat_minor": 2
}
